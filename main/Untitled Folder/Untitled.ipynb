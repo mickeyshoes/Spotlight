{
 "cells": [
  {
   "cell_type": "code",
   "execution_count": 1,
   "metadata": {},
   "outputs": [
    {
     "name": "stdout",
     "output_type": "stream",
     "text": [
      "Collecting selenium\n",
      "  Using cached selenium-3.141.0-py2.py3-none-any.whl (904 kB)\n",
      "Requirement already satisfied: urllib3 in c:\\users\\user\\anaconda3\\lib\\site-packages (from selenium) (1.25.8)\n",
      "Installing collected packages: selenium\n",
      "Successfully installed selenium-3.141.0\n",
      "Note: you may need to restart the kernel to use updated packages.\n"
     ]
    }
   ],
   "source": [
    "pip install selenium"
   ]
  },
  {
   "cell_type": "code",
   "execution_count": 6,
   "metadata": {},
   "outputs": [],
   "source": []
  },
  {
   "cell_type": "code",
   "execution_count": 48,
   "metadata": {},
   "outputs": [
    {
     "name": "stdout",
     "output_type": "stream",
     "text": [
      "131\n",
      "131\n",
      "391\n",
      "---------------구분자----------------------\n",
      "131\n",
      "131\n",
      "391\n",
      "131\n",
      "end\n"
     ]
    }
   ],
   "source": [
    "import selenium.webdriver as webdriver\n",
    "import urllib.request\n",
    "import os\n",
    "from selenium.common.exceptions import NoSuchElementException\n",
    "\n",
    "options = webdriver.ChromeOptions()\n",
    "options.add_argument('disable_gpu')\n",
    "# options.add_argument('lang=ko_KR')\n",
    "driver = webdriver.Chrome('C:\\\\Users\\\\user\\\\Documents\\\\Spotlight\\\\Spotlight\\\\main\\\\Untitled Folder\\\\chromedriver.exe')\n",
    "\n",
    "url = 'https://movie.naver.com/movie/running/current.nhn'\n",
    "driver.get(url)\n",
    "\n",
    "try:\n",
    "    title = driver.find_elements_by_class_name('tit')\n",
    "    image = driver.find_elements_by_class_name('thumb')\n",
    "    ganre = driver.find_elements_by_class_name('link_txt')\n",
    "    print(len(title))\n",
    "    print(len(image))\n",
    "    print(len(ganre))\n",
    "    title_list = []\n",
    "    img_list = []\n",
    "    ganre_dummy_list = []\n",
    "    ganre_list = []\n",
    "    ganre_total_list = ['액션', '모험', '드라마', '멜로/로맨스', '판타지', '애니메이션', '스릴러', 'SF', '다큐멘터리', '코미디', '범죄', '공포', '서부', '가족', '뮤지컬', '전쟁', '미스터리', '공연실황']\n",
    "    \n",
    "    print('---------------구분자----------------------')\n",
    "#     제목 출력\n",
    "    for title_name in title:\n",
    "        title_list.append(title_name.find_element_by_tag_name('a').text)\n",
    "    print(len(title_list))\n",
    "    \n",
    "#     이미지 출력\n",
    "    for img_list_temp in image:\n",
    "        temp = img_list_temp.find_element_by_tag_name('a')\n",
    "        img_list.append(temp.find_element_by_tag_name('img').get_attribute('src'))\n",
    "    print(len(img_list))\n",
    "        \n",
    "#     for image_url in image:\n",
    "#         print(image_url.text)\n",
    "\n",
    "#     for i in ganre:\n",
    "#         for j in range(len(ganre)):\n",
    "#             if(j%3 == 1):\n",
    "#                 print(i.find_element_by_tag_name('a').text)\n",
    "#                 break\n",
    "\n",
    "#    장르 출력\n",
    "    for i in ganre:\n",
    "#         print(i.find_element_by_tag_name('a').text)\n",
    "        ganre_dummy_list.append(i.find_element_by_tag_name('a').text)\n",
    "        \n",
    "    print(len(ganre_dummy_list))\n",
    "    for j in range(len(ganre_dummy_list)):\n",
    "        if ganre_dummy_list[j] in ganre_total_list:\n",
    "#             print(ganre_dummy_list[j])\n",
    "            ganre_list.append(ganre_dummy_list[j])\n",
    "            \n",
    "    print(len(ganre_list))\n",
    "    print('end')\n",
    "        \n",
    "        \n",
    "except NoSuchElementException as exception:\n",
    "    print(\"error\")\n",
    "    print(exception)\n",
    "    exit()\n"
   ]
  },
  {
   "cell_type": "code",
   "execution_count": null,
   "metadata": {},
   "outputs": [],
   "source": []
  }
 ],
 "metadata": {
  "kernelspec": {
   "display_name": "Python 3",
   "language": "python",
   "name": "python3"
  },
  "language_info": {
   "codemirror_mode": {
    "name": "ipython",
    "version": 3
   },
   "file_extension": ".py",
   "mimetype": "text/x-python",
   "name": "python",
   "nbconvert_exporter": "python",
   "pygments_lexer": "ipython3",
   "version": "3.7.6"
  }
 },
 "nbformat": 4,
 "nbformat_minor": 4
}
